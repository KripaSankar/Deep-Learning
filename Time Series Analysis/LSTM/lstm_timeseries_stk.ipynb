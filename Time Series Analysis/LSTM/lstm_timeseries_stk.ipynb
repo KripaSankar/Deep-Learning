{
 "cells": [
  {
   "cell_type": "markdown",
   "metadata": {},
   "source": [
    "# LSTM Time Series Example -  Stock price prediction"
   ]
  },
  {
   "cell_type": "code",
   "execution_count": 1,
   "metadata": {},
   "outputs": [],
   "source": [
    "import numpy as np  \n",
    "import matplotlib.pyplot as plt  \n",
    "import pandas as pd  "
   ]
  },
  {
   "cell_type": "markdown",
   "metadata": {},
   "source": [
    "## Import data"
   ]
  },
  {
   "cell_type": "code",
   "execution_count": 2,
   "metadata": {},
   "outputs": [],
   "source": [
    "tr_data = pd.read_csv('Stock_data.csv')  "
   ]
  },
  {
   "cell_type": "code",
   "execution_count": 3,
   "metadata": {},
   "outputs": [],
   "source": [
    "tr_data_proc = tr_data.iloc[:, 1:2].values  "
   ]
  },
  {
   "cell_type": "code",
   "execution_count": 4,
   "metadata": {},
   "outputs": [],
   "source": [
    "data_dates = tr_data.iloc[:, 0].values  "
   ]
  },
  {
   "cell_type": "markdown",
   "metadata": {},
   "source": [
    "## Preprocess data"
   ]
  },
  {
   "cell_type": "code",
   "execution_count": 5,
   "metadata": {},
   "outputs": [],
   "source": [
    "N=60"
   ]
  },
  {
   "cell_type": "code",
   "execution_count": 6,
   "metadata": {},
   "outputs": [
    {
     "data": {
      "text/plain": [
       "(1280, 1)"
      ]
     },
     "execution_count": 6,
     "metadata": {},
     "output_type": "execute_result"
    }
   ],
   "source": [
    "from sklearn.preprocessing import MinMaxScaler  \n",
    "scaler = MinMaxScaler(feature_range = (0, 1))\n",
    "\n",
    "tr_data_scaled = scaler.fit_transform(tr_data_proc)  \n",
    "tr_data_scaled.shape"
   ]
  },
  {
   "cell_type": "code",
   "execution_count": 7,
   "metadata": {},
   "outputs": [
    {
     "name": "stdout",
     "output_type": "stream",
     "text": [
      "[[ 79.117142]\n",
      " [ 78.26857 ]\n",
      " [ 76.709999]\n",
      " ...\n",
      " [170.160004]\n",
      " [165.529999]\n",
      " [166.869995]]\n"
     ]
    }
   ],
   "source": [
    "print(tr_data_proc)"
   ]
  },
  {
   "cell_type": "code",
   "execution_count": 8,
   "metadata": {},
   "outputs": [],
   "source": [
    "features_set = []  \n",
    "labels = []  \n",
    "for i in range(N, 1280):  \n",
    "    features_set.append(tr_data_scaled[i-N:i, 0])\n",
    "    labels.append(tr_data_scaled[i, 0])"
   ]
  },
  {
   "cell_type": "code",
   "execution_count": 9,
   "metadata": {},
   "outputs": [],
   "source": [
    "features_set, labels = np.array(features_set), np.array(labels)  "
   ]
  },
  {
   "cell_type": "code",
   "execution_count": 10,
   "metadata": {},
   "outputs": [],
   "source": [
    "features_set = np.reshape(features_set, (features_set.shape[0], features_set.shape[1], 1)) "
   ]
  },
  {
   "cell_type": "markdown",
   "metadata": {},
   "source": [
    "## LSTM Training"
   ]
  },
  {
   "cell_type": "code",
   "execution_count": 11,
   "metadata": {},
   "outputs": [
    {
     "name": "stderr",
     "output_type": "stream",
     "text": [
      "Using TensorFlow backend.\n"
     ]
    }
   ],
   "source": [
    "from keras.models import Sequential  \n",
    "from keras.layers import Dense  \n",
    "from keras.layers import LSTM  \n",
    "from keras.layers import Dropout  "
   ]
  },
  {
   "cell_type": "code",
   "execution_count": 12,
   "metadata": {},
   "outputs": [
    {
     "name": "stdout",
     "output_type": "stream",
     "text": [
      "Epoch 1/100\n",
      "1220/1220 [==============================] - 28s 23ms/step - loss: 0.0333\n",
      "Epoch 2/100\n",
      "1220/1220 [==============================] - 18s 15ms/step - loss: 0.0048\n",
      "Epoch 3/100\n",
      "1220/1220 [==============================] - 16s 13ms/step - loss: 0.0046\n",
      "Epoch 4/100\n",
      "1220/1220 [==============================] - 16s 13ms/step - loss: 0.0043\n",
      "Epoch 5/100\n",
      "1220/1220 [==============================] - 17s 14ms/step - loss: 0.0043\n",
      "Epoch 6/100\n",
      "1220/1220 [==============================] - 19s 16ms/step - loss: 0.0036\n",
      "Epoch 7/100\n",
      "1220/1220 [==============================] - 19s 15ms/step - loss: 0.0033\n",
      "Epoch 8/100\n",
      "1220/1220 [==============================] - 18s 14ms/step - loss: 0.0035\n",
      "Epoch 9/100\n",
      "1220/1220 [==============================] - 17s 14ms/step - loss: 0.0034\n",
      "Epoch 10/100\n",
      "1220/1220 [==============================] - 16s 14ms/step - loss: 0.0034\n",
      "Epoch 11/100\n",
      "1220/1220 [==============================] - 17s 14ms/step - loss: 0.0032\n",
      "Epoch 12/100\n",
      "1220/1220 [==============================] - 18s 14ms/step - loss: 0.0031\n",
      "Epoch 13/100\n",
      "1220/1220 [==============================] - 19s 16ms/step - loss: 0.0037\n",
      "Epoch 14/100\n",
      "1220/1220 [==============================] - 19s 15ms/step - loss: 0.0031\n",
      "Epoch 15/100\n",
      "1220/1220 [==============================] - 17s 14ms/step - loss: 0.0031\n",
      "Epoch 16/100\n",
      "1220/1220 [==============================] - 16s 13ms/step - loss: 0.0030\n",
      "Epoch 17/100\n",
      "1220/1220 [==============================] - 17s 14ms/step - loss: 0.0026\n",
      "Epoch 18/100\n",
      "1220/1220 [==============================] - 20s 16ms/step - loss: 0.0026\n",
      "Epoch 19/100\n",
      "1220/1220 [==============================] - 26s 21ms/step - loss: 0.0026\n",
      "Epoch 20/100\n",
      "1220/1220 [==============================] - 19s 16ms/step - loss: 0.0028\n",
      "Epoch 21/100\n",
      "1220/1220 [==============================] - 16s 13ms/step - loss: 0.0029\n",
      "Epoch 22/100\n",
      "1220/1220 [==============================] - 16s 13ms/step - loss: 0.0028\n",
      "Epoch 23/100\n",
      "1220/1220 [==============================] - 17s 14ms/step - loss: 0.0031\n",
      "Epoch 24/100\n",
      "1220/1220 [==============================] - 22s 18ms/step - loss: 0.0030\n",
      "Epoch 25/100\n",
      "1220/1220 [==============================] - 18s 15ms/step - loss: 0.0027\n",
      "Epoch 26/100\n",
      "1220/1220 [==============================] - 11s 9ms/step - loss: 0.0024\n",
      "Epoch 27/100\n",
      "1220/1220 [==============================] - 11s 9ms/step - loss: 0.0021\n",
      "Epoch 28/100\n",
      "1220/1220 [==============================] - 11s 9ms/step - loss: 0.0021\n",
      "Epoch 29/100\n",
      "1220/1220 [==============================] - 12s 10ms/step - loss: 0.0022\n",
      "Epoch 30/100\n",
      "1220/1220 [==============================] - 12s 10ms/step - loss: 0.0022\n",
      "Epoch 31/100\n",
      "1220/1220 [==============================] - 13s 10ms/step - loss: 0.0025\n",
      "Epoch 32/100\n",
      "1220/1220 [==============================] - 13s 11ms/step - loss: 0.0024\n",
      "Epoch 33/100\n",
      "1220/1220 [==============================] - 13s 11ms/step - loss: 0.0022\n",
      "Epoch 34/100\n",
      "1220/1220 [==============================] - 12s 10ms/step - loss: 0.0022\n",
      "Epoch 35/100\n",
      "1220/1220 [==============================] - 12s 10ms/step - loss: 0.0025\n",
      "Epoch 36/100\n",
      "1220/1220 [==============================] - 13s 11ms/step - loss: 0.0020\n",
      "Epoch 37/100\n",
      "1220/1220 [==============================] - 13s 11ms/step - loss: 0.0022\n",
      "Epoch 38/100\n",
      "1220/1220 [==============================] - 14s 11ms/step - loss: 0.0019\n",
      "Epoch 39/100\n",
      "1220/1220 [==============================] - 14s 12ms/step - loss: 0.0019\n",
      "Epoch 40/100\n",
      "1220/1220 [==============================] - 14s 11ms/step - loss: 0.0020\n",
      "Epoch 41/100\n",
      "1220/1220 [==============================] - 13s 11ms/step - loss: 0.0019\n",
      "Epoch 42/100\n",
      "1220/1220 [==============================] - 16s 13ms/step - loss: 0.0020\n",
      "Epoch 43/100\n",
      "1220/1220 [==============================] - 16s 13ms/step - loss: 0.0018\n",
      "Epoch 44/100\n",
      "1220/1220 [==============================] - 12s 10ms/step - loss: 0.0017\n",
      "Epoch 45/100\n",
      "1220/1220 [==============================] - 11s 9ms/step - loss: 0.0020\n",
      "Epoch 46/100\n",
      "1220/1220 [==============================] - 13s 11ms/step - loss: 0.0019\n",
      "Epoch 47/100\n",
      "1220/1220 [==============================] - 14s 11ms/step - loss: 0.0018\n",
      "Epoch 48/100\n",
      "1220/1220 [==============================] - 12s 10ms/step - loss: 0.0018\n",
      "Epoch 49/100\n",
      "1220/1220 [==============================] - 11s 9ms/step - loss: 0.0017\n",
      "Epoch 50/100\n",
      "1220/1220 [==============================] - 10s 8ms/step - loss: 0.0015\n",
      "Epoch 51/100\n",
      "1220/1220 [==============================] - 9s 7ms/step - loss: 0.0016\n",
      "Epoch 52/100\n",
      "1220/1220 [==============================] - 8s 7ms/step - loss: 0.0023\n",
      "Epoch 53/100\n",
      "1220/1220 [==============================] - 8s 7ms/step - loss: 0.0015\n",
      "Epoch 54/100\n",
      "1220/1220 [==============================] - 9s 7ms/step - loss: 0.0016\n",
      "Epoch 55/100\n",
      "1220/1220 [==============================] - 9s 7ms/step - loss: 0.0015\n",
      "Epoch 56/100\n",
      "1220/1220 [==============================] - 9s 8ms/step - loss: 0.0016\n",
      "Epoch 57/100\n",
      "1220/1220 [==============================] - 10s 8ms/step - loss: 0.0015\n",
      "Epoch 58/100\n",
      "1220/1220 [==============================] - 9s 8ms/step - loss: 0.0016\n",
      "Epoch 59/100\n",
      "1220/1220 [==============================] - 10s 8ms/step - loss: 0.0016\n",
      "Epoch 60/100\n",
      "1220/1220 [==============================] - 9s 8ms/step - loss: 0.0015\n",
      "Epoch 61/100\n",
      "1220/1220 [==============================] - 9s 7ms/step - loss: 0.0015\n",
      "Epoch 62/100\n",
      "1220/1220 [==============================] - 9s 7ms/step - loss: 0.0013\n",
      "Epoch 63/100\n",
      "1220/1220 [==============================] - 8s 7ms/step - loss: 0.0014\n",
      "Epoch 64/100\n",
      "1220/1220 [==============================] - 8s 7ms/step - loss: 0.0015\n",
      "Epoch 65/100\n",
      "1220/1220 [==============================] - 9s 8ms/step - loss: 0.0014\n",
      "Epoch 66/100\n",
      "1220/1220 [==============================] - 10s 8ms/step - loss: 0.0013\n",
      "Epoch 67/100\n",
      "1220/1220 [==============================] - 9s 7ms/step - loss: 0.0018\n",
      "Epoch 68/100\n",
      "1220/1220 [==============================] - 8s 7ms/step - loss: 0.0014\n",
      "Epoch 69/100\n",
      "1220/1220 [==============================] - 8s 7ms/step - loss: 0.0014\n",
      "Epoch 70/100\n",
      "1220/1220 [==============================] - 8s 7ms/step - loss: 0.0014\n",
      "Epoch 71/100\n",
      "1220/1220 [==============================] - 8s 7ms/step - loss: 0.0015\n",
      "Epoch 72/100\n",
      "1220/1220 [==============================] - 9s 7ms/step - loss: 0.0014\n",
      "Epoch 73/100\n",
      "1220/1220 [==============================] - 9s 7ms/step - loss: 0.0012\n",
      "Epoch 74/100\n",
      "1220/1220 [==============================] - 9s 7ms/step - loss: 0.0012\n",
      "Epoch 75/100\n",
      "1220/1220 [==============================] - 8s 7ms/step - loss: 0.0013\n",
      "Epoch 76/100\n",
      "1220/1220 [==============================] - 9s 7ms/step - loss: 0.0013\n",
      "Epoch 77/100\n",
      "1220/1220 [==============================] - 9s 7ms/step - loss: 0.0013\n",
      "Epoch 78/100\n",
      "1220/1220 [==============================] - 9s 7ms/step - loss: 0.0012\n",
      "Epoch 79/100\n",
      "1220/1220 [==============================] - 10s 8ms/step - loss: 0.0014\n",
      "Epoch 80/100\n",
      "1220/1220 [==============================] - 9s 8ms/step - loss: 0.0013\n",
      "Epoch 81/100\n",
      "1220/1220 [==============================] - 9s 7ms/step - loss: 0.0012\n",
      "Epoch 82/100\n",
      "1220/1220 [==============================] - 9s 7ms/step - loss: 0.0012\n",
      "Epoch 83/100\n",
      "1220/1220 [==============================] - 9s 7ms/step - loss: 0.0013\n",
      "Epoch 84/100\n",
      "1220/1220 [==============================] - 9s 7ms/step - loss: 0.0013\n",
      "Epoch 85/100\n",
      "1220/1220 [==============================] - 9s 8ms/step - loss: 0.0011\n",
      "Epoch 86/100\n",
      "1220/1220 [==============================] - 9s 8ms/step - loss: 0.0014\n",
      "Epoch 87/100\n",
      "1220/1220 [==============================] - 9s 8ms/step - loss: 0.0014\n",
      "Epoch 88/100\n",
      "1220/1220 [==============================] - 10s 8ms/step - loss: 0.0012\n",
      "Epoch 89/100\n",
      "1220/1220 [==============================] - 10s 8ms/step - loss: 0.0013\n",
      "Epoch 90/100\n",
      "1220/1220 [==============================] - 9s 8ms/step - loss: 0.0011\n",
      "Epoch 91/100\n",
      "1220/1220 [==============================] - 9s 8ms/step - loss: 0.0012\n",
      "Epoch 92/100\n",
      "1220/1220 [==============================] - 8s 6ms/step - loss: 0.0011\n",
      "Epoch 93/100\n",
      "1220/1220 [==============================] - 7s 6ms/step - loss: 0.0012\n",
      "Epoch 94/100\n",
      "1220/1220 [==============================] - 7s 6ms/step - loss: 0.0011\n",
      "Epoch 95/100\n",
      "1220/1220 [==============================] - 7s 6ms/step - loss: 0.0012\n",
      "Epoch 96/100\n",
      "1220/1220 [==============================] - 7s 5ms/step - loss: 0.0012\n",
      "Epoch 97/100\n",
      "1220/1220 [==============================] - 7s 5ms/step - loss: 0.0012\n",
      "Epoch 98/100\n",
      "1220/1220 [==============================] - 7s 5ms/step - loss: 0.0011\n",
      "Epoch 99/100\n",
      "1220/1220 [==============================] - 7s 6ms/step - loss: 0.0012\n",
      "Epoch 100/100\n",
      "1220/1220 [==============================] - 7s 6ms/step - loss: 0.0010\n"
     ]
    },
    {
     "data": {
      "text/plain": [
       "<keras.callbacks.History at 0x7fb378d725c0>"
      ]
     },
     "execution_count": 12,
     "metadata": {},
     "output_type": "execute_result"
    }
   ],
   "source": [
    "model = Sequential()  \n",
    "model.add(LSTM(units=50, return_sequences=True, input_shape=(features_set.shape[1], 1))) \n",
    "model.add(Dropout(0.2))  \n",
    "model.add(LSTM(units=50, return_sequences=True))  \n",
    "model.add(Dropout(0.2))\n",
    "model.add(LSTM(units=50, return_sequences=True))  \n",
    "model.add(Dropout(0.2))\n",
    "model.add(LSTM(units=50))  \n",
    "model.add(Dropout(0.2))  \n",
    "model.add(Dense(units = 1))  \n",
    "model.compile(optimizer = 'adam', loss = 'mean_squared_error')  \n",
    "model.fit(features_set, labels, epochs = 100, batch_size = 32)  "
   ]
  },
  {
   "cell_type": "markdown",
   "metadata": {},
   "source": [
    "## LSTM Testing"
   ]
  },
  {
   "cell_type": "code",
   "execution_count": 13,
   "metadata": {},
   "outputs": [],
   "source": [
    "test_data = pd.read_csv('Stock_testdata.csv')  \n",
    "test_data_proc = test_data.iloc[:, 1:2].values \n",
    "test_data_dates = test_data.iloc[:, 0].values "
   ]
  },
  {
   "cell_type": "markdown",
   "metadata": {},
   "source": [
    "### Preprocess test data"
   ]
  },
  {
   "cell_type": "code",
   "execution_count": 14,
   "metadata": {},
   "outputs": [],
   "source": [
    "data_all = pd.concat((tr_data['Open'], test_data['Open']), axis=0)  "
   ]
  },
  {
   "cell_type": "code",
   "execution_count": 15,
   "metadata": {},
   "outputs": [],
   "source": [
    "test_inputs = data_all[len(data_all) - len(test_data) - 60:].values  "
   ]
  },
  {
   "cell_type": "code",
   "execution_count": 16,
   "metadata": {},
   "outputs": [],
   "source": [
    "test_inputs = test_inputs.reshape(-1,1)  \n",
    "test_inputs = scaler.transform(test_inputs)  "
   ]
  },
  {
   "cell_type": "code",
   "execution_count": 17,
   "metadata": {},
   "outputs": [],
   "source": [
    "test_features = []  \n",
    "for i in range(60, 80):  \n",
    "    test_features.append(test_inputs[i-60:i, 0])"
   ]
  },
  {
   "cell_type": "code",
   "execution_count": 18,
   "metadata": {},
   "outputs": [],
   "source": [
    "test_features = np.array(test_features)  \n",
    "test_features = np.reshape(test_features, (test_features.shape[0], test_features.shape[1], 1))  "
   ]
  },
  {
   "cell_type": "code",
   "execution_count": 19,
   "metadata": {},
   "outputs": [],
   "source": [
    "predictions = model.predict(test_features)  "
   ]
  },
  {
   "cell_type": "code",
   "execution_count": 20,
   "metadata": {},
   "outputs": [],
   "source": [
    "predictions = scaler.inverse_transform(predictions)  "
   ]
  },
  {
   "cell_type": "code",
   "execution_count": 21,
   "metadata": {},
   "outputs": [
    {
     "data": {
      "image/png": "[encoded data removed]",
      "text/plain": [
       "<Figure size 720x360 with 1 Axes>"
      ]
     },
     "metadata": {
      "needs_background": "light"
     },
     "output_type": "display_data"
    }
   ],
   "source": [
    "plt.figure(figsize=(10,5))  \n",
    "plt.plot(test_data_dates[0:20],test_data_proc[0:20], color='blue', label='Actual Stock Price')  \n",
    "plt.plot(predictions , color='red', label='Predicted Stock Price')\n",
    "plt.xticks(rotation=90, size=10)\n",
    "plt.title('AAPL Stock Price Prediction using LSTM')  \n",
    "plt.xlabel('Date')  \n",
    "plt.ylabel('Stock Price')  \n",
    "plt.legend()  \n",
    "plt.show()  "
   ]
  },
  {
   "cell_type": "code",
   "execution_count": null,
   "metadata": {},
   "outputs": [],
   "source": []
  },
  {
   "cell_type": "code",
   "execution_count": null,
   "metadata": {},
   "outputs": [],
   "source": []
  }
 ],
 "metadata": {
  "kernelspec": {
   "display_name": "Python 3",
   "language": "python",
   "name": "python3"
  },
  "language_info": {
   "codemirror_mode": {
    "name": "ipython",
    "version": 3
   },
   "file_extension": ".py",
   "mimetype": "text/x-python",
   "name": "python",
   "nbconvert_exporter": "python",
   "pygments_lexer": "ipython3",
   "version": "3.6.8"
  }
 },
 "nbformat": 4,
 "nbformat_minor": 2
}
